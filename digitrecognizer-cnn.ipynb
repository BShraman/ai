{
 "cells": [
  {
   "cell_type": "markdown",
   "id": "807a837e",
   "metadata": {
    "papermill": {
     "duration": 0.01317,
     "end_time": "2023-01-29T16:09:24.858211",
     "exception": false,
     "start_time": "2023-01-29T16:09:24.845041",
     "status": "completed"
    },
    "tags": []
   },
   "source": [
    "## Importing Dataset"
   ]
  },
  {
   "cell_type": "code",
   "execution_count": 1,
   "id": "34e300f7",
   "metadata": {
    "_cell_guid": "b1076dfc-b9ad-4769-8c92-a6c4dae69d19",
    "_uuid": "8f2839f25d086af736a60e9eeb907d3b93b6e0e5",
    "execution": {
     "iopub.execute_input": "2023-01-29T16:09:24.876104Z",
     "iopub.status.busy": "2023-01-29T16:09:24.874867Z",
     "iopub.status.idle": "2023-01-29T16:09:24.890447Z",
     "shell.execute_reply": "2023-01-29T16:09:24.889372Z"
    },
    "papermill": {
     "duration": 0.027666,
     "end_time": "2023-01-29T16:09:24.893638",
     "exception": false,
     "start_time": "2023-01-29T16:09:24.865972",
     "status": "completed"
    },
    "tags": []
   },
   "outputs": [
    {
     "name": "stdout",
     "output_type": "stream",
     "text": [
      "/kaggle/input/digit-recognizer/sample_submission.csv\n",
      "/kaggle/input/digit-recognizer/train.csv\n",
      "/kaggle/input/digit-recognizer/test.csv\n"
     ]
    }
   ],
   "source": [
    "# This Python 3 environment comes with many helpful analytics libraries installed\n",
    "# It is defined by the kaggle/python Docker image: https://github.com/kaggle/docker-python\n",
    "# For example, here's several helpful packages to load\n",
    "\n",
    "import numpy as np # linear algebra\n",
    "import pandas as pd # data processing, CSV file I/O (e.g. pd.read_csv)\n",
    "\n",
    "# Input data files are available in the read-only \"../input/\" directory\n",
    "# For example, running this (by clicking run or pressing Shift+Enter) will list all files under the input directory\n",
    "\n",
    "import os\n",
    "for dirname, _, filenames in os.walk('/kaggle/input'):\n",
    "    for filename in filenames:\n",
    "        print(os.path.join(dirname, filename))\n",
    "\n",
    "# You can write up to 20GB to the current directory (/kaggle/working/) that gets preserved as output when you create a version using \"Save & Run All\" \n",
    "# You can also write temporary files to /kaggle/temp/, but they won't be saved outside of the current session"
   ]
  },
  {
   "cell_type": "code",
   "execution_count": 2,
   "id": "fec9c367",
   "metadata": {
    "execution": {
     "iopub.execute_input": "2023-01-29T16:09:24.910675Z",
     "iopub.status.busy": "2023-01-29T16:09:24.910388Z",
     "iopub.status.idle": "2023-01-29T16:09:29.964026Z",
     "shell.execute_reply": "2023-01-29T16:09:29.963065Z"
    },
    "papermill": {
     "duration": 5.064889,
     "end_time": "2023-01-29T16:09:29.966514",
     "exception": false,
     "start_time": "2023-01-29T16:09:24.901625",
     "status": "completed"
    },
    "tags": []
   },
   "outputs": [],
   "source": [
    "train = pd.read_csv(\"/kaggle/input/digit-recognizer/train.csv\")\n",
    "test = pd.read_csv(\"/kaggle/input/digit-recognizer/test.csv\")"
   ]
  },
  {
   "cell_type": "markdown",
   "id": "e354ddbd",
   "metadata": {
    "papermill": {
     "duration": 0.00757,
     "end_time": "2023-01-29T16:09:29.981244",
     "exception": false,
     "start_time": "2023-01-29T16:09:29.973674",
     "status": "completed"
    },
    "tags": []
   },
   "source": [
    "## Data Visualization and Wrangling"
   ]
  },
  {
   "cell_type": "code",
   "execution_count": 3,
   "id": "b6328330",
   "metadata": {
    "execution": {
     "iopub.execute_input": "2023-01-29T16:09:29.996155Z",
     "iopub.status.busy": "2023-01-29T16:09:29.995845Z",
     "iopub.status.idle": "2023-01-29T16:09:30.001004Z",
     "shell.execute_reply": "2023-01-29T16:09:30.000056Z"
    },
    "papermill": {
     "duration": 0.015152,
     "end_time": "2023-01-29T16:09:30.003340",
     "exception": false,
     "start_time": "2023-01-29T16:09:29.988188",
     "status": "completed"
    },
    "tags": []
   },
   "outputs": [
    {
     "name": "stdout",
     "output_type": "stream",
     "text": [
      "Train Data Shape : (42000, 785)\n",
      "Test Data Shape : (28000, 784)\n"
     ]
    }
   ],
   "source": [
    "print(\"Train Data Shape : {}\".format(train.shape))\n",
    "print(\"Test Data Shape : {}\".format(test.shape))"
   ]
  },
  {
   "cell_type": "code",
   "execution_count": 4,
   "id": "9756592a",
   "metadata": {
    "execution": {
     "iopub.execute_input": "2023-01-29T16:09:30.018281Z",
     "iopub.status.busy": "2023-01-29T16:09:30.017529Z",
     "iopub.status.idle": "2023-01-29T16:09:30.043246Z",
     "shell.execute_reply": "2023-01-29T16:09:30.042417Z"
    },
    "papermill": {
     "duration": 0.035164,
     "end_time": "2023-01-29T16:09:30.045217",
     "exception": false,
     "start_time": "2023-01-29T16:09:30.010053",
     "status": "completed"
    },
    "tags": []
   },
   "outputs": [
    {
     "data": {
      "text/html": [
       "<div>\n",
       "<style scoped>\n",
       "    .dataframe tbody tr th:only-of-type {\n",
       "        vertical-align: middle;\n",
       "    }\n",
       "\n",
       "    .dataframe tbody tr th {\n",
       "        vertical-align: top;\n",
       "    }\n",
       "\n",
       "    .dataframe thead th {\n",
       "        text-align: right;\n",
       "    }\n",
       "</style>\n",
       "<table border=\"1\" class=\"dataframe\">\n",
       "  <thead>\n",
       "    <tr style=\"text-align: right;\">\n",
       "      <th></th>\n",
       "      <th>label</th>\n",
       "      <th>pixel0</th>\n",
       "      <th>pixel1</th>\n",
       "      <th>pixel2</th>\n",
       "      <th>pixel3</th>\n",
       "      <th>pixel4</th>\n",
       "      <th>pixel5</th>\n",
       "      <th>pixel6</th>\n",
       "      <th>pixel7</th>\n",
       "      <th>pixel8</th>\n",
       "      <th>...</th>\n",
       "      <th>pixel774</th>\n",
       "      <th>pixel775</th>\n",
       "      <th>pixel776</th>\n",
       "      <th>pixel777</th>\n",
       "      <th>pixel778</th>\n",
       "      <th>pixel779</th>\n",
       "      <th>pixel780</th>\n",
       "      <th>pixel781</th>\n",
       "      <th>pixel782</th>\n",
       "      <th>pixel783</th>\n",
       "    </tr>\n",
       "  </thead>\n",
       "  <tbody>\n",
       "    <tr>\n",
       "      <th>0</th>\n",
       "      <td>1</td>\n",
       "      <td>0</td>\n",
       "      <td>0</td>\n",
       "      <td>0</td>\n",
       "      <td>0</td>\n",
       "      <td>0</td>\n",
       "      <td>0</td>\n",
       "      <td>0</td>\n",
       "      <td>0</td>\n",
       "      <td>0</td>\n",
       "      <td>...</td>\n",
       "      <td>0</td>\n",
       "      <td>0</td>\n",
       "      <td>0</td>\n",
       "      <td>0</td>\n",
       "      <td>0</td>\n",
       "      <td>0</td>\n",
       "      <td>0</td>\n",
       "      <td>0</td>\n",
       "      <td>0</td>\n",
       "      <td>0</td>\n",
       "    </tr>\n",
       "    <tr>\n",
       "      <th>1</th>\n",
       "      <td>0</td>\n",
       "      <td>0</td>\n",
       "      <td>0</td>\n",
       "      <td>0</td>\n",
       "      <td>0</td>\n",
       "      <td>0</td>\n",
       "      <td>0</td>\n",
       "      <td>0</td>\n",
       "      <td>0</td>\n",
       "      <td>0</td>\n",
       "      <td>...</td>\n",
       "      <td>0</td>\n",
       "      <td>0</td>\n",
       "      <td>0</td>\n",
       "      <td>0</td>\n",
       "      <td>0</td>\n",
       "      <td>0</td>\n",
       "      <td>0</td>\n",
       "      <td>0</td>\n",
       "      <td>0</td>\n",
       "      <td>0</td>\n",
       "    </tr>\n",
       "    <tr>\n",
       "      <th>2</th>\n",
       "      <td>1</td>\n",
       "      <td>0</td>\n",
       "      <td>0</td>\n",
       "      <td>0</td>\n",
       "      <td>0</td>\n",
       "      <td>0</td>\n",
       "      <td>0</td>\n",
       "      <td>0</td>\n",
       "      <td>0</td>\n",
       "      <td>0</td>\n",
       "      <td>...</td>\n",
       "      <td>0</td>\n",
       "      <td>0</td>\n",
       "      <td>0</td>\n",
       "      <td>0</td>\n",
       "      <td>0</td>\n",
       "      <td>0</td>\n",
       "      <td>0</td>\n",
       "      <td>0</td>\n",
       "      <td>0</td>\n",
       "      <td>0</td>\n",
       "    </tr>\n",
       "    <tr>\n",
       "      <th>3</th>\n",
       "      <td>4</td>\n",
       "      <td>0</td>\n",
       "      <td>0</td>\n",
       "      <td>0</td>\n",
       "      <td>0</td>\n",
       "      <td>0</td>\n",
       "      <td>0</td>\n",
       "      <td>0</td>\n",
       "      <td>0</td>\n",
       "      <td>0</td>\n",
       "      <td>...</td>\n",
       "      <td>0</td>\n",
       "      <td>0</td>\n",
       "      <td>0</td>\n",
       "      <td>0</td>\n",
       "      <td>0</td>\n",
       "      <td>0</td>\n",
       "      <td>0</td>\n",
       "      <td>0</td>\n",
       "      <td>0</td>\n",
       "      <td>0</td>\n",
       "    </tr>\n",
       "    <tr>\n",
       "      <th>4</th>\n",
       "      <td>0</td>\n",
       "      <td>0</td>\n",
       "      <td>0</td>\n",
       "      <td>0</td>\n",
       "      <td>0</td>\n",
       "      <td>0</td>\n",
       "      <td>0</td>\n",
       "      <td>0</td>\n",
       "      <td>0</td>\n",
       "      <td>0</td>\n",
       "      <td>...</td>\n",
       "      <td>0</td>\n",
       "      <td>0</td>\n",
       "      <td>0</td>\n",
       "      <td>0</td>\n",
       "      <td>0</td>\n",
       "      <td>0</td>\n",
       "      <td>0</td>\n",
       "      <td>0</td>\n",
       "      <td>0</td>\n",
       "      <td>0</td>\n",
       "    </tr>\n",
       "  </tbody>\n",
       "</table>\n",
       "<p>5 rows × 785 columns</p>\n",
       "</div>"
      ],
      "text/plain": [
       "   label  pixel0  pixel1  pixel2  pixel3  pixel4  pixel5  pixel6  pixel7  \\\n",
       "0      1       0       0       0       0       0       0       0       0   \n",
       "1      0       0       0       0       0       0       0       0       0   \n",
       "2      1       0       0       0       0       0       0       0       0   \n",
       "3      4       0       0       0       0       0       0       0       0   \n",
       "4      0       0       0       0       0       0       0       0       0   \n",
       "\n",
       "   pixel8  ...  pixel774  pixel775  pixel776  pixel777  pixel778  pixel779  \\\n",
       "0       0  ...         0         0         0         0         0         0   \n",
       "1       0  ...         0         0         0         0         0         0   \n",
       "2       0  ...         0         0         0         0         0         0   \n",
       "3       0  ...         0         0         0         0         0         0   \n",
       "4       0  ...         0         0         0         0         0         0   \n",
       "\n",
       "   pixel780  pixel781  pixel782  pixel783  \n",
       "0         0         0         0         0  \n",
       "1         0         0         0         0  \n",
       "2         0         0         0         0  \n",
       "3         0         0         0         0  \n",
       "4         0         0         0         0  \n",
       "\n",
       "[5 rows x 785 columns]"
      ]
     },
     "execution_count": 4,
     "metadata": {},
     "output_type": "execute_result"
    }
   ],
   "source": [
    "train.head()"
   ]
  },
  {
   "cell_type": "markdown",
   "id": "78cde680",
   "metadata": {
    "papermill": {
     "duration": 0.007249,
     "end_time": "2023-01-29T16:09:30.060313",
     "exception": false,
     "start_time": "2023-01-29T16:09:30.053064",
     "status": "completed"
    },
    "tags": []
   },
   "source": [
    "### NaN Value"
   ]
  },
  {
   "cell_type": "code",
   "execution_count": 5,
   "id": "55576fc9",
   "metadata": {
    "execution": {
     "iopub.execute_input": "2023-01-29T16:09:30.077789Z",
     "iopub.status.busy": "2023-01-29T16:09:30.076158Z",
     "iopub.status.idle": "2023-01-29T16:09:30.125894Z",
     "shell.execute_reply": "2023-01-29T16:09:30.124696Z"
    },
    "papermill": {
     "duration": 0.060014,
     "end_time": "2023-01-29T16:09:30.128251",
     "exception": false,
     "start_time": "2023-01-29T16:09:30.068237",
     "status": "completed"
    },
    "tags": []
   },
   "outputs": [
    {
     "data": {
      "text/plain": [
       "label       0\n",
       "pixel515    0\n",
       "pixel517    0\n",
       "pixel518    0\n",
       "pixel519    0\n",
       "           ..\n",
       "pixel263    0\n",
       "pixel264    0\n",
       "pixel265    0\n",
       "pixel266    0\n",
       "pixel783    0\n",
       "Length: 785, dtype: int64"
      ]
     },
     "execution_count": 5,
     "metadata": {},
     "output_type": "execute_result"
    }
   ],
   "source": [
    "train.isnull().sum().sort_values(ascending=False)"
   ]
  },
  {
   "cell_type": "markdown",
   "id": "c07eb907",
   "metadata": {
    "papermill": {
     "duration": 0.007242,
     "end_time": "2023-01-29T16:09:30.143134",
     "exception": false,
     "start_time": "2023-01-29T16:09:30.135892",
     "status": "completed"
    },
    "tags": []
   },
   "source": [
    "### Label Distribution "
   ]
  },
  {
   "cell_type": "code",
   "execution_count": 6,
   "id": "64d8fa17",
   "metadata": {
    "execution": {
     "iopub.execute_input": "2023-01-29T16:09:30.158591Z",
     "iopub.status.busy": "2023-01-29T16:09:30.158293Z",
     "iopub.status.idle": "2023-01-29T16:09:31.412080Z",
     "shell.execute_reply": "2023-01-29T16:09:31.411038Z"
    },
    "papermill": {
     "duration": 1.264245,
     "end_time": "2023-01-29T16:09:31.414439",
     "exception": false,
     "start_time": "2023-01-29T16:09:30.150194",
     "status": "completed"
    },
    "tags": []
   },
   "outputs": [
    {
     "data": {
      "image/png": "[encoded data removed]",
      "text/plain": [
       "<Figure size 432x288 with 1 Axes>"
      ]
     },
     "metadata": {
      "needs_background": "light"
     },
     "output_type": "display_data"
    }
   ],
   "source": [
    "import matplotlib.pyplot as plt\n",
    "import seaborn as sns\n",
    "\n",
    "plt.xlabel('label')\n",
    "sns.histplot(data=train , x='label');"
   ]
  },
  {
   "cell_type": "code",
   "execution_count": 7,
   "id": "2f102462",
   "metadata": {
    "execution": {
     "iopub.execute_input": "2023-01-29T16:09:31.431382Z",
     "iopub.status.busy": "2023-01-29T16:09:31.431102Z",
     "iopub.status.idle": "2023-01-29T16:09:31.436773Z",
     "shell.execute_reply": "2023-01-29T16:09:31.435782Z"
    },
    "papermill": {
     "duration": 0.017494,
     "end_time": "2023-01-29T16:09:31.439925",
     "exception": false,
     "start_time": "2023-01-29T16:09:31.422431",
     "status": "completed"
    },
    "tags": []
   },
   "outputs": [
    {
     "name": "stdout",
     "output_type": "stream",
     "text": [
      "Train Shape : (42000, 785)\n",
      "Test Shape : (28000, 784)\n"
     ]
    }
   ],
   "source": [
    "print(\"Train Shape : {}\".format(train.shape))\n",
    "print(\"Test Shape : {}\".format(test.shape))"
   ]
  },
  {
   "cell_type": "markdown",
   "id": "46346eda",
   "metadata": {
    "papermill": {
     "duration": 0.007146,
     "end_time": "2023-01-29T16:09:31.455288",
     "exception": false,
     "start_time": "2023-01-29T16:09:31.448142",
     "status": "completed"
    },
    "tags": []
   },
   "source": [
    "## Spliting Data"
   ]
  },
  {
   "cell_type": "code",
   "execution_count": 8,
   "id": "5fd92c2f",
   "metadata": {
    "execution": {
     "iopub.execute_input": "2023-01-29T16:09:31.471766Z",
     "iopub.status.busy": "2023-01-29T16:09:31.470958Z",
     "iopub.status.idle": "2023-01-29T16:09:31.554559Z",
     "shell.execute_reply": "2023-01-29T16:09:31.553567Z"
    },
    "papermill": {
     "duration": 0.094389,
     "end_time": "2023-01-29T16:09:31.557193",
     "exception": false,
     "start_time": "2023-01-29T16:09:31.462804",
     "status": "completed"
    },
    "tags": []
   },
   "outputs": [],
   "source": [
    "y = train['label']\n",
    "X = train.drop(['label'], axis=1)"
   ]
  },
  {
   "cell_type": "code",
   "execution_count": 9,
   "id": "0564502e",
   "metadata": {
    "execution": {
     "iopub.execute_input": "2023-01-29T16:09:31.575015Z",
     "iopub.status.busy": "2023-01-29T16:09:31.574095Z",
     "iopub.status.idle": "2023-01-29T16:09:31.580132Z",
     "shell.execute_reply": "2023-01-29T16:09:31.578908Z"
    },
    "papermill": {
     "duration": 0.018046,
     "end_time": "2023-01-29T16:09:31.583713",
     "exception": false,
     "start_time": "2023-01-29T16:09:31.565667",
     "status": "completed"
    },
    "tags": []
   },
   "outputs": [
    {
     "name": "stdout",
     "output_type": "stream",
     "text": [
      "Y Shape : (42000,)\n",
      "X Shape : (42000, 784)\n"
     ]
    }
   ],
   "source": [
    "print(\"Y Shape : {}\".format(y.shape))\n",
    "print(\"X Shape : {}\".format(X.shape))"
   ]
  },
  {
   "cell_type": "code",
   "execution_count": 10,
   "id": "cc0374ee",
   "metadata": {
    "execution": {
     "iopub.execute_input": "2023-01-29T16:09:31.600952Z",
     "iopub.status.busy": "2023-01-29T16:09:31.600652Z",
     "iopub.status.idle": "2023-01-29T16:09:32.029444Z",
     "shell.execute_reply": "2023-01-29T16:09:32.028256Z"
    },
    "papermill": {
     "duration": 0.440109,
     "end_time": "2023-01-29T16:09:32.032026",
     "exception": false,
     "start_time": "2023-01-29T16:09:31.591917",
     "status": "completed"
    },
    "tags": []
   },
   "outputs": [],
   "source": [
    "from sklearn.model_selection import train_test_split\n",
    "\n",
    "X_train, X_test , y_train, y_test = train_test_split(X, y,test_size= 0.2 , random_state=123)"
   ]
  },
  {
   "cell_type": "markdown",
   "id": "d6133ccc",
   "metadata": {
    "papermill": {
     "duration": 0.007507,
     "end_time": "2023-01-29T16:09:32.047560",
     "exception": false,
     "start_time": "2023-01-29T16:09:32.040053",
     "status": "completed"
    },
    "tags": []
   },
   "source": [
    "### Normalizing Data"
   ]
  },
  {
   "cell_type": "code",
   "execution_count": 11,
   "id": "02df3fb2",
   "metadata": {
    "execution": {
     "iopub.execute_input": "2023-01-29T16:09:32.065048Z",
     "iopub.status.busy": "2023-01-29T16:09:32.064152Z",
     "iopub.status.idle": "2023-01-29T16:09:38.138704Z",
     "shell.execute_reply": "2023-01-29T16:09:38.137159Z"
    },
    "papermill": {
     "duration": 6.086388,
     "end_time": "2023-01-29T16:09:38.141674",
     "exception": false,
     "start_time": "2023-01-29T16:09:32.055286",
     "status": "completed"
    },
    "tags": []
   },
   "outputs": [
    {
     "name": "stdout",
     "output_type": "stream",
     "text": [
      "X_train.shape: (33600, 784)\n",
      "X_test.shape (8400, 784)\n"
     ]
    }
   ],
   "source": [
    "import tensorflow as tf\n",
    "from tensorflow.keras.layers import Input, Conv2D, Dense, Flatten, Dropout\n",
    "from tensorflow.keras.models import Model\n",
    "\n",
    "X_train, X_test = X_train / 255.0, X_test / 255.0\n",
    "print(\"X_train.shape:\", X_train.shape)\n",
    "print(\"X_test.shape\", X_test.shape)\n"
   ]
  },
  {
   "cell_type": "code",
   "execution_count": 12,
   "id": "e3a09130",
   "metadata": {
    "execution": {
     "iopub.execute_input": "2023-01-29T16:09:38.159864Z",
     "iopub.status.busy": "2023-01-29T16:09:38.158510Z",
     "iopub.status.idle": "2023-01-29T16:09:38.166900Z",
     "shell.execute_reply": "2023-01-29T16:09:38.165930Z"
    },
    "papermill": {
     "duration": 0.019112,
     "end_time": "2023-01-29T16:09:38.168900",
     "exception": false,
     "start_time": "2023-01-29T16:09:38.149788",
     "status": "completed"
    },
    "tags": []
   },
   "outputs": [
    {
     "name": "stdout",
     "output_type": "stream",
     "text": [
      "X_train.shape: (33600, 28, 28, 1)\n",
      "X_test.shape (8400, 28, 28, 1)\n"
     ]
    }
   ],
   "source": [
    "#Converting X Features into 3D data  \n",
    "X_train = X_train.values.reshape(-1,28,28, 1)\n",
    "X_test = X_test.values.reshape(-1, 28,28, 1)\n",
    "\n",
    "print(\"X_train.shape:\", X_train.shape)\n",
    "print(\"X_test.shape\", X_test.shape)"
   ]
  },
  {
   "cell_type": "code",
   "execution_count": 13,
   "id": "e3b8c6d9",
   "metadata": {
    "execution": {
     "iopub.execute_input": "2023-01-29T16:09:38.185902Z",
     "iopub.status.busy": "2023-01-29T16:09:38.185570Z",
     "iopub.status.idle": "2023-01-29T16:09:38.195136Z",
     "shell.execute_reply": "2023-01-29T16:09:38.194074Z"
    },
    "papermill": {
     "duration": 0.021401,
     "end_time": "2023-01-29T16:09:38.198259",
     "exception": false,
     "start_time": "2023-01-29T16:09:38.176858",
     "status": "completed"
    },
    "tags": []
   },
   "outputs": [
    {
     "name": "stdout",
     "output_type": "stream",
     "text": [
      "number of classes: 10\n"
     ]
    }
   ],
   "source": [
    "#Finding Number of Class \n",
    "K = len(set(y_train))\n",
    "\n",
    "print(\"number of classes:\", K)"
   ]
  },
  {
   "cell_type": "code",
   "execution_count": 14,
   "id": "068ff366",
   "metadata": {
    "execution": {
     "iopub.execute_input": "2023-01-29T16:09:38.215198Z",
     "iopub.status.busy": "2023-01-29T16:09:38.214477Z",
     "iopub.status.idle": "2023-01-29T16:09:42.051948Z",
     "shell.execute_reply": "2023-01-29T16:09:42.049940Z"
    },
    "papermill": {
     "duration": 3.848203,
     "end_time": "2023-01-29T16:09:42.054278",
     "exception": false,
     "start_time": "2023-01-29T16:09:38.206075",
     "status": "completed"
    },
    "tags": []
   },
   "outputs": [
    {
     "name": "stderr",
     "output_type": "stream",
     "text": [
      "2023-01-29 16:09:38.367820: I tensorflow/stream_executor/cuda/cuda_gpu_executor.cc:937] successful NUMA node read from SysFS had negative value (-1), but there must be at least one NUMA node, so returning NUMA node zero\n",
      "2023-01-29 16:09:38.368824: I tensorflow/stream_executor/cuda/cuda_gpu_executor.cc:937] successful NUMA node read from SysFS had negative value (-1), but there must be at least one NUMA node, so returning NUMA node zero\n",
      "2023-01-29 16:09:38.512765: I tensorflow/stream_executor/cuda/cuda_gpu_executor.cc:937] successful NUMA node read from SysFS had negative value (-1), but there must be at least one NUMA node, so returning NUMA node zero\n",
      "2023-01-29 16:09:38.513646: I tensorflow/stream_executor/cuda/cuda_gpu_executor.cc:937] successful NUMA node read from SysFS had negative value (-1), but there must be at least one NUMA node, so returning NUMA node zero\n",
      "2023-01-29 16:09:38.514502: I tensorflow/stream_executor/cuda/cuda_gpu_executor.cc:937] successful NUMA node read from SysFS had negative value (-1), but there must be at least one NUMA node, so returning NUMA node zero\n",
      "2023-01-29 16:09:38.515337: I tensorflow/stream_executor/cuda/cuda_gpu_executor.cc:937] successful NUMA node read from SysFS had negative value (-1), but there must be at least one NUMA node, so returning NUMA node zero\n",
      "2023-01-29 16:09:38.517714: I tensorflow/core/platform/cpu_feature_guard.cc:142] This TensorFlow binary is optimized with oneAPI Deep Neural Network Library (oneDNN) to use the following CPU instructions in performance-critical operations:  AVX2 AVX512F FMA\n",
      "To enable them in other operations, rebuild TensorFlow with the appropriate compiler flags.\n",
      "2023-01-29 16:09:38.758906: I tensorflow/stream_executor/cuda/cuda_gpu_executor.cc:937] successful NUMA node read from SysFS had negative value (-1), but there must be at least one NUMA node, so returning NUMA node zero\n",
      "2023-01-29 16:09:38.759754: I tensorflow/stream_executor/cuda/cuda_gpu_executor.cc:937] successful NUMA node read from SysFS had negative value (-1), but there must be at least one NUMA node, so returning NUMA node zero\n",
      "2023-01-29 16:09:38.760530: I tensorflow/stream_executor/cuda/cuda_gpu_executor.cc:937] successful NUMA node read from SysFS had negative value (-1), but there must be at least one NUMA node, so returning NUMA node zero\n",
      "2023-01-29 16:09:38.761358: I tensorflow/stream_executor/cuda/cuda_gpu_executor.cc:937] successful NUMA node read from SysFS had negative value (-1), but there must be at least one NUMA node, so returning NUMA node zero\n",
      "2023-01-29 16:09:38.762136: I tensorflow/stream_executor/cuda/cuda_gpu_executor.cc:937] successful NUMA node read from SysFS had negative value (-1), but there must be at least one NUMA node, so returning NUMA node zero\n",
      "2023-01-29 16:09:38.762853: I tensorflow/stream_executor/cuda/cuda_gpu_executor.cc:937] successful NUMA node read from SysFS had negative value (-1), but there must be at least one NUMA node, so returning NUMA node zero\n",
      "2023-01-29 16:09:41.632524: I tensorflow/stream_executor/cuda/cuda_gpu_executor.cc:937] successful NUMA node read from SysFS had negative value (-1), but there must be at least one NUMA node, so returning NUMA node zero\n",
      "2023-01-29 16:09:41.633497: I tensorflow/stream_executor/cuda/cuda_gpu_executor.cc:937] successful NUMA node read from SysFS had negative value (-1), but there must be at least one NUMA node, so returning NUMA node zero\n",
      "2023-01-29 16:09:41.634394: I tensorflow/stream_executor/cuda/cuda_gpu_executor.cc:937] successful NUMA node read from SysFS had negative value (-1), but there must be at least one NUMA node, so returning NUMA node zero\n",
      "2023-01-29 16:09:41.635243: I tensorflow/stream_executor/cuda/cuda_gpu_executor.cc:937] successful NUMA node read from SysFS had negative value (-1), but there must be at least one NUMA node, so returning NUMA node zero\n",
      "2023-01-29 16:09:41.636048: I tensorflow/stream_executor/cuda/cuda_gpu_executor.cc:937] successful NUMA node read from SysFS had negative value (-1), but there must be at least one NUMA node, so returning NUMA node zero\n",
      "2023-01-29 16:09:41.636835: I tensorflow/core/common_runtime/gpu/gpu_device.cc:1510] Created device /job:localhost/replica:0/task:0/device:GPU:0 with 13789 MB memory:  -> device: 0, name: Tesla T4, pci bus id: 0000:00:04.0, compute capability: 7.5\n",
      "2023-01-29 16:09:41.640130: I tensorflow/stream_executor/cuda/cuda_gpu_executor.cc:937] successful NUMA node read from SysFS had negative value (-1), but there must be at least one NUMA node, so returning NUMA node zero\n",
      "2023-01-29 16:09:41.640829: I tensorflow/core/common_runtime/gpu/gpu_device.cc:1510] Created device /job:localhost/replica:0/task:0/device:GPU:1 with 13789 MB memory:  -> device: 1, name: Tesla T4, pci bus id: 0000:00:05.0, compute capability: 7.5\n"
     ]
    },
    {
     "name": "stdout",
     "output_type": "stream",
     "text": [
      "Model: \"model\"\n",
      "_________________________________________________________________\n",
      "Layer (type)                 Output Shape              Param #   \n",
      "=================================================================\n",
      "input_1 (InputLayer)         [(None, 28, 28, 1)]       0         \n",
      "_________________________________________________________________\n",
      "conv2d (Conv2D)              (None, 13, 13, 32)        320       \n",
      "_________________________________________________________________\n",
      "conv2d_1 (Conv2D)            (None, 6, 6, 64)          18496     \n",
      "_________________________________________________________________\n",
      "conv2d_2 (Conv2D)            (None, 2, 2, 128)         73856     \n",
      "_________________________________________________________________\n",
      "flatten (Flatten)            (None, 512)               0         \n",
      "_________________________________________________________________\n",
      "dropout (Dropout)            (None, 512)               0         \n",
      "_________________________________________________________________\n",
      "dense (Dense)                (None, 1024)              525312    \n",
      "_________________________________________________________________\n",
      "dropout_1 (Dropout)          (None, 1024)              0         \n",
      "_________________________________________________________________\n",
      "dense_1 (Dense)              (None, 10)                10250     \n",
      "=================================================================\n",
      "Total params: 628,234\n",
      "Trainable params: 628,234\n",
      "Non-trainable params: 0\n",
      "_________________________________________________________________\n"
     ]
    }
   ],
   "source": [
    "# Build the model using the functional API\n",
    "i = Input(shape=X_train[0].shape)\n",
    "x = Conv2D(32, (3, 3), strides=2, activation='relu')(i)\n",
    "x = Conv2D(64, (3, 3), strides=2, activation='relu')(x)\n",
    "x = Conv2D(128, (3, 3), strides=2, activation='relu')(x)\n",
    "x = Flatten()(x)\n",
    "x = Dropout(0.2)(x)\n",
    "x = Dense(1024, activation='relu')(x)\n",
    "x = Dropout(0.2)(x)\n",
    "x = Dense(K, activation='softmax')(x)\n",
    "\n",
    "model = Model(i, x)\n",
    "\n",
    "model.summary()"
   ]
  },
  {
   "cell_type": "code",
   "execution_count": 15,
   "id": "c4735586",
   "metadata": {
    "execution": {
     "iopub.execute_input": "2023-01-29T16:09:42.072868Z",
     "iopub.status.busy": "2023-01-29T16:09:42.072525Z",
     "iopub.status.idle": "2023-01-29T16:09:42.085544Z",
     "shell.execute_reply": "2023-01-29T16:09:42.084549Z"
    },
    "papermill": {
     "duration": 0.024933,
     "end_time": "2023-01-29T16:09:42.087991",
     "exception": false,
     "start_time": "2023-01-29T16:09:42.063058",
     "status": "completed"
    },
    "tags": []
   },
   "outputs": [],
   "source": [
    "# sparse_categorical_crossentropy to convert Y value in to One hot encoding target value.\n",
    "model.compile(optimizer='adam',\n",
    "              loss='sparse_categorical_crossentropy',\n",
    "              metrics=['accuracy'])"
   ]
  },
  {
   "cell_type": "code",
   "execution_count": 16,
   "id": "a75c15b7",
   "metadata": {
    "execution": {
     "iopub.execute_input": "2023-01-29T16:09:42.106798Z",
     "iopub.status.busy": "2023-01-29T16:09:42.106454Z",
     "iopub.status.idle": "2023-01-29T16:11:37.739234Z",
     "shell.execute_reply": "2023-01-29T16:11:37.738071Z"
    },
    "papermill": {
     "duration": 115.645357,
     "end_time": "2023-01-29T16:11:37.741982",
     "exception": false,
     "start_time": "2023-01-29T16:09:42.096625",
     "status": "completed"
    },
    "tags": []
   },
   "outputs": [
    {
     "name": "stderr",
     "output_type": "stream",
     "text": [
      "2023-01-29 16:09:42.474187: I tensorflow/compiler/mlir/mlir_graph_optimization_pass.cc:185] None of the MLIR Optimization Passes are enabled (registered 2)\n"
     ]
    },
    {
     "name": "stdout",
     "output_type": "stream",
     "text": [
      "Epoch 1/25\n"
     ]
    },
    {
     "name": "stderr",
     "output_type": "stream",
     "text": [
      "2023-01-29 16:09:44.250252: I tensorflow/stream_executor/cuda/cuda_dnn.cc:369] Loaded cuDNN version 8005\n"
     ]
    },
    {
     "name": "stdout",
     "output_type": "stream",
     "text": [
      "1050/1050 [==============================] - 13s 4ms/step - loss: 0.2376 - accuracy: 0.9266 - val_loss: 0.0861 - val_accuracy: 0.9744\n",
      "Epoch 2/25\n",
      "1050/1050 [==============================] - 4s 4ms/step - loss: 0.0851 - accuracy: 0.9731 - val_loss: 0.0672 - val_accuracy: 0.9789\n",
      "Epoch 3/25\n",
      "1050/1050 [==============================] - 4s 4ms/step - loss: 0.0579 - accuracy: 0.9816 - val_loss: 0.0583 - val_accuracy: 0.9814\n",
      "Epoch 4/25\n",
      "1050/1050 [==============================] - 4s 4ms/step - loss: 0.0467 - accuracy: 0.9847 - val_loss: 0.0594 - val_accuracy: 0.9812\n",
      "Epoch 5/25\n",
      "1050/1050 [==============================] - 5s 5ms/step - loss: 0.0377 - accuracy: 0.9879 - val_loss: 0.0521 - val_accuracy: 0.9849\n",
      "Epoch 6/25\n",
      "1050/1050 [==============================] - 4s 4ms/step - loss: 0.0318 - accuracy: 0.9898 - val_loss: 0.0535 - val_accuracy: 0.9852\n",
      "Epoch 7/25\n",
      "1050/1050 [==============================] - 4s 4ms/step - loss: 0.0254 - accuracy: 0.9910 - val_loss: 0.0544 - val_accuracy: 0.9850\n",
      "Epoch 8/25\n",
      "1050/1050 [==============================] - 4s 4ms/step - loss: 0.0250 - accuracy: 0.9913 - val_loss: 0.0580 - val_accuracy: 0.9865\n",
      "Epoch 9/25\n",
      "1050/1050 [==============================] - 4s 4ms/step - loss: 0.0230 - accuracy: 0.9928 - val_loss: 0.0592 - val_accuracy: 0.9843\n",
      "Epoch 10/25\n",
      "1050/1050 [==============================] - 4s 4ms/step - loss: 0.0183 - accuracy: 0.9939 - val_loss: 0.0653 - val_accuracy: 0.9837\n",
      "Epoch 11/25\n",
      "1050/1050 [==============================] - 4s 4ms/step - loss: 0.0174 - accuracy: 0.9940 - val_loss: 0.0767 - val_accuracy: 0.9840\n",
      "Epoch 12/25\n",
      "1050/1050 [==============================] - 4s 4ms/step - loss: 0.0167 - accuracy: 0.9946 - val_loss: 0.0587 - val_accuracy: 0.9858\n",
      "Epoch 13/25\n",
      "1050/1050 [==============================] - 5s 4ms/step - loss: 0.0147 - accuracy: 0.9962 - val_loss: 0.0605 - val_accuracy: 0.9861\n",
      "Epoch 14/25\n",
      "1050/1050 [==============================] - 4s 4ms/step - loss: 0.0158 - accuracy: 0.9951 - val_loss: 0.0986 - val_accuracy: 0.9811\n",
      "Epoch 15/25\n",
      "1050/1050 [==============================] - 4s 4ms/step - loss: 0.0117 - accuracy: 0.9963 - val_loss: 0.0614 - val_accuracy: 0.9863\n",
      "Epoch 16/25\n",
      "1050/1050 [==============================] - 4s 4ms/step - loss: 0.0174 - accuracy: 0.9943 - val_loss: 0.0609 - val_accuracy: 0.9862\n",
      "Epoch 17/25\n",
      "1050/1050 [==============================] - 4s 4ms/step - loss: 0.0129 - accuracy: 0.9958 - val_loss: 0.0666 - val_accuracy: 0.9861\n",
      "Epoch 18/25\n",
      "1050/1050 [==============================] - 4s 4ms/step - loss: 0.0098 - accuracy: 0.9970 - val_loss: 0.0810 - val_accuracy: 0.9851\n",
      "Epoch 19/25\n",
      "1050/1050 [==============================] - 4s 4ms/step - loss: 0.0141 - accuracy: 0.9961 - val_loss: 0.0659 - val_accuracy: 0.9862\n",
      "Epoch 20/25\n",
      "1050/1050 [==============================] - 5s 5ms/step - loss: 0.0109 - accuracy: 0.9966 - val_loss: 0.0682 - val_accuracy: 0.9871\n",
      "Epoch 21/25\n",
      "1050/1050 [==============================] - 4s 4ms/step - loss: 0.0100 - accuracy: 0.9965 - val_loss: 0.0827 - val_accuracy: 0.9840\n",
      "Epoch 22/25\n",
      "1050/1050 [==============================] - 4s 4ms/step - loss: 0.0124 - accuracy: 0.9965 - val_loss: 0.0779 - val_accuracy: 0.9871\n",
      "Epoch 23/25\n",
      "1050/1050 [==============================] - 4s 4ms/step - loss: 0.0121 - accuracy: 0.9963 - val_loss: 0.0810 - val_accuracy: 0.9873\n",
      "Epoch 24/25\n",
      "1050/1050 [==============================] - 4s 4ms/step - loss: 0.0110 - accuracy: 0.9968 - val_loss: 0.0685 - val_accuracy: 0.9871\n",
      "Epoch 25/25\n",
      "1050/1050 [==============================] - 4s 4ms/step - loss: 0.0128 - accuracy: 0.9963 - val_loss: 0.0732 - val_accuracy: 0.9867\n"
     ]
    }
   ],
   "source": [
    "# Train the model\n",
    "r = model.fit(X_train, y_train, validation_data=(X_test, y_test), epochs=25)"
   ]
  },
  {
   "cell_type": "markdown",
   "id": "e2253c54",
   "metadata": {
    "papermill": {
     "duration": 0.103838,
     "end_time": "2023-01-29T16:11:37.956396",
     "exception": false,
     "start_time": "2023-01-29T16:11:37.852558",
     "status": "completed"
    },
    "tags": []
   },
   "source": [
    "## Visualizing Resutls"
   ]
  },
  {
   "cell_type": "code",
   "execution_count": 17,
   "id": "84fb4b7e",
   "metadata": {
    "execution": {
     "iopub.execute_input": "2023-01-29T16:11:38.165536Z",
     "iopub.status.busy": "2023-01-29T16:11:38.165177Z",
     "iopub.status.idle": "2023-01-29T16:11:38.385751Z",
     "shell.execute_reply": "2023-01-29T16:11:38.384648Z"
    },
    "papermill": {
     "duration": 0.3259,
     "end_time": "2023-01-29T16:11:38.387761",
     "exception": false,
     "start_time": "2023-01-29T16:11:38.061861",
     "status": "completed"
    },
    "tags": []
   },
   "outputs": [
    {
     "data": {
      "image/png": "[encoded data removed]",
      "text/plain": [
       "<Figure size 432x288 with 1 Axes>"
      ]
     },
     "metadata": {
      "needs_background": "light"
     },
     "output_type": "display_data"
    }
   ],
   "source": [
    "import matplotlib.pyplot as plt\n",
    "loss = r.history['loss']\n",
    "val_loss=r.history['val_loss']\n",
    "epochs = range(1,len(loss) + 1)\n",
    "\n",
    "plt.plot(epochs, loss, 'y', label='Training Loss')\n",
    "plt.plot(epochs , val_loss, 'r', label='Validation Loss')\n",
    "plt.title('Training and Validation Loss')\n",
    "plt.xlabel('Epochs')\n",
    "plt.ylabel('Loss')\n",
    "plt.legend()\n",
    "plt.show()"
   ]
  },
  {
   "cell_type": "code",
   "execution_count": 18,
   "id": "101ff7da",
   "metadata": {
    "execution": {
     "iopub.execute_input": "2023-01-29T16:11:38.592266Z",
     "iopub.status.busy": "2023-01-29T16:11:38.591393Z",
     "iopub.status.idle": "2023-01-29T16:11:38.815480Z",
     "shell.execute_reply": "2023-01-29T16:11:38.814561Z"
    },
    "papermill": {
     "duration": 0.328211,
     "end_time": "2023-01-29T16:11:38.817637",
     "exception": false,
     "start_time": "2023-01-29T16:11:38.489426",
     "status": "completed"
    },
    "tags": []
   },
   "outputs": [
    {
     "data": {
      "image/png": "[encoded data removed]",
      "text/plain": [
       "<Figure size 432x288 with 1 Axes>"
      ]
     },
     "metadata": {
      "needs_background": "light"
     },
     "output_type": "display_data"
    }
   ],
   "source": [
    "import matplotlib.pyplot as plt\n",
    "acc = r.history['accuracy']\n",
    "val_acc = r.history['val_accuracy']\n",
    "epochs = range(1,len(loss) + 1)\n",
    "\n",
    "plt.plot(epochs, acc, 'y', label='Training Accuracy')\n",
    "plt.plot(epochs , val_acc, 'r', label='Validation Accuracy')\n",
    "plt.title('Training and Validation Accuracy')\n",
    "plt.xlabel('Epochs')\n",
    "plt.ylabel('Accuracy')\n",
    "plt.legend()\n",
    "plt.show()"
   ]
  },
  {
   "cell_type": "code",
   "execution_count": 19,
   "id": "4ace180c",
   "metadata": {
    "execution": {
     "iopub.execute_input": "2023-01-29T16:11:39.021866Z",
     "iopub.status.busy": "2023-01-29T16:11:39.021536Z",
     "iopub.status.idle": "2023-01-29T16:11:39.812056Z",
     "shell.execute_reply": "2023-01-29T16:11:39.810539Z"
    },
    "papermill": {
     "duration": 0.893899,
     "end_time": "2023-01-29T16:11:39.814421",
     "exception": false,
     "start_time": "2023-01-29T16:11:38.920522",
     "status": "completed"
    },
    "tags": []
   },
   "outputs": [
    {
     "name": "stdout",
     "output_type": "stream",
     "text": [
      "               Predicted Label\n",
      "[[781   0   0   0   0   0   2   2   0   0]\n",
      " [  0 944   1   1   1   0   0   1   1   0]\n",
      " [  1   1 824   1   2   0   0   7   2   0]\n",
      " [  0   0   2 848   0   1   0   3   3   1]\n",
      " [  0   1   0   0 786   0   1   0   1   7]\n",
      " [  1   0   0   7   3 779   1   0   2   7]\n",
      " [  1   1   0   0   0   3 865   0   0   0]\n",
      " [  0   2   5   1   1   0   0 850   0   1]\n",
      " [  3   2   1   0   1   1   0   1 806   2]\n",
      " [  2   2   0   1  10   2   0   5   0 805]]\n"
     ]
    }
   ],
   "source": [
    "#Confusion Matrix\n",
    "from sklearn.metrics import confusion_matrix\n",
    "y_pred = model.predict(X_test).argmax(axis=1)\n",
    "cm = confusion_matrix(y_test,y_pred)\n",
    "print(\"               Predicted Label\")\n",
    "print(cm)"
   ]
  },
  {
   "cell_type": "markdown",
   "id": "08f6d165",
   "metadata": {
    "papermill": {
     "duration": 0.102265,
     "end_time": "2023-01-29T16:11:40.019547",
     "exception": false,
     "start_time": "2023-01-29T16:11:39.917282",
     "status": "completed"
    },
    "tags": []
   },
   "source": [
    "## Predecting With Test Data"
   ]
  },
  {
   "cell_type": "code",
   "execution_count": 20,
   "id": "d3b234d5",
   "metadata": {
    "execution": {
     "iopub.execute_input": "2023-01-29T16:11:40.225885Z",
     "iopub.status.busy": "2023-01-29T16:11:40.225469Z",
     "iopub.status.idle": "2023-01-29T16:11:40.299475Z",
     "shell.execute_reply": "2023-01-29T16:11:40.298403Z"
    },
    "papermill": {
     "duration": 0.181181,
     "end_time": "2023-01-29T16:11:40.302097",
     "exception": false,
     "start_time": "2023-01-29T16:11:40.120916",
     "status": "completed"
    },
    "tags": []
   },
   "outputs": [],
   "source": [
    "#Reshaping test data\n",
    "test_df = test / 255.0\n",
    "test_df = test_df.values.reshape(-1,28,28,1)"
   ]
  },
  {
   "cell_type": "code",
   "execution_count": 21,
   "id": "e0cca909",
   "metadata": {
    "execution": {
     "iopub.execute_input": "2023-01-29T16:11:40.516659Z",
     "iopub.status.busy": "2023-01-29T16:11:40.515672Z",
     "iopub.status.idle": "2023-01-29T16:11:40.522204Z",
     "shell.execute_reply": "2023-01-29T16:11:40.520947Z"
    },
    "papermill": {
     "duration": 0.117257,
     "end_time": "2023-01-29T16:11:40.525484",
     "exception": false,
     "start_time": "2023-01-29T16:11:40.408227",
     "status": "completed"
    },
    "tags": []
   },
   "outputs": [
    {
     "name": "stdout",
     "output_type": "stream",
     "text": [
      "Test Data Shape : (28000, 28, 28, 1)\n"
     ]
    }
   ],
   "source": [
    "print(\"Test Data Shape : {}\".format(test_df.shape))"
   ]
  },
  {
   "cell_type": "code",
   "execution_count": 22,
   "id": "f76e1126",
   "metadata": {
    "execution": {
     "iopub.execute_input": "2023-01-29T16:11:40.786752Z",
     "iopub.status.busy": "2023-01-29T16:11:40.786365Z",
     "iopub.status.idle": "2023-01-29T16:11:42.754613Z",
     "shell.execute_reply": "2023-01-29T16:11:42.753477Z"
    },
    "papermill": {
     "duration": 2.075916,
     "end_time": "2023-01-29T16:11:42.757381",
     "exception": false,
     "start_time": "2023-01-29T16:11:40.681465",
     "status": "completed"
    },
    "tags": []
   },
   "outputs": [],
   "source": [
    "pred = model.predict(test_df)"
   ]
  },
  {
   "cell_type": "code",
   "execution_count": 23,
   "id": "2a773c31",
   "metadata": {
    "execution": {
     "iopub.execute_input": "2023-01-29T16:11:42.968964Z",
     "iopub.status.busy": "2023-01-29T16:11:42.967861Z",
     "iopub.status.idle": "2023-01-29T16:11:42.976989Z",
     "shell.execute_reply": "2023-01-29T16:11:42.976144Z"
    },
    "papermill": {
     "duration": 0.120667,
     "end_time": "2023-01-29T16:11:42.979061",
     "exception": false,
     "start_time": "2023-01-29T16:11:42.858394",
     "status": "completed"
    },
    "tags": []
   },
   "outputs": [
    {
     "data": {
      "text/plain": [
       "array([2, 0, 9, ..., 3, 9, 2])"
      ]
     },
     "execution_count": 23,
     "metadata": {},
     "output_type": "execute_result"
    }
   ],
   "source": [
    "classes = pred.argmax(axis=-1)\n",
    "classes"
   ]
  },
  {
   "cell_type": "code",
   "execution_count": 24,
   "id": "2b288bc8",
   "metadata": {
    "execution": {
     "iopub.execute_input": "2023-01-29T16:11:43.182888Z",
     "iopub.status.busy": "2023-01-29T16:11:43.182534Z",
     "iopub.status.idle": "2023-01-29T16:11:43.206932Z",
     "shell.execute_reply": "2023-01-29T16:11:43.205846Z"
    },
    "papermill": {
     "duration": 0.129546,
     "end_time": "2023-01-29T16:11:43.209149",
     "exception": false,
     "start_time": "2023-01-29T16:11:43.079603",
     "status": "completed"
    },
    "tags": []
   },
   "outputs": [
    {
     "data": {
      "text/html": [
       "<div>\n",
       "<style scoped>\n",
       "    .dataframe tbody tr th:only-of-type {\n",
       "        vertical-align: middle;\n",
       "    }\n",
       "\n",
       "    .dataframe tbody tr th {\n",
       "        vertical-align: top;\n",
       "    }\n",
       "\n",
       "    .dataframe thead th {\n",
       "        text-align: right;\n",
       "    }\n",
       "</style>\n",
       "<table border=\"1\" class=\"dataframe\">\n",
       "  <thead>\n",
       "    <tr style=\"text-align: right;\">\n",
       "      <th></th>\n",
       "      <th>ImageId</th>\n",
       "      <th>Label</th>\n",
       "    </tr>\n",
       "  </thead>\n",
       "  <tbody>\n",
       "    <tr>\n",
       "      <th>0</th>\n",
       "      <td>1</td>\n",
       "      <td>0</td>\n",
       "    </tr>\n",
       "    <tr>\n",
       "      <th>1</th>\n",
       "      <td>2</td>\n",
       "      <td>0</td>\n",
       "    </tr>\n",
       "    <tr>\n",
       "      <th>2</th>\n",
       "      <td>3</td>\n",
       "      <td>0</td>\n",
       "    </tr>\n",
       "    <tr>\n",
       "      <th>3</th>\n",
       "      <td>4</td>\n",
       "      <td>0</td>\n",
       "    </tr>\n",
       "    <tr>\n",
       "      <th>4</th>\n",
       "      <td>5</td>\n",
       "      <td>0</td>\n",
       "    </tr>\n",
       "  </tbody>\n",
       "</table>\n",
       "</div>"
      ],
      "text/plain": [
       "   ImageId  Label\n",
       "0        1      0\n",
       "1        2      0\n",
       "2        3      0\n",
       "3        4      0\n",
       "4        5      0"
      ]
     },
     "execution_count": 24,
     "metadata": {},
     "output_type": "execute_result"
    }
   ],
   "source": [
    "submission = pd.read_csv('/kaggle/input/digit-recognizer/sample_submission.csv')\n",
    "\n",
    "submission.head()"
   ]
  },
  {
   "cell_type": "code",
   "execution_count": 25,
   "id": "1691d3ee",
   "metadata": {
    "execution": {
     "iopub.execute_input": "2023-01-29T16:11:43.418370Z",
     "iopub.status.busy": "2023-01-29T16:11:43.418004Z",
     "iopub.status.idle": "2023-01-29T16:11:43.430198Z",
     "shell.execute_reply": "2023-01-29T16:11:43.429118Z"
    },
    "papermill": {
     "duration": 0.120716,
     "end_time": "2023-01-29T16:11:43.432500",
     "exception": false,
     "start_time": "2023-01-29T16:11:43.311784",
     "status": "completed"
    },
    "tags": []
   },
   "outputs": [
    {
     "data": {
      "text/html": [
       "<div>\n",
       "<style scoped>\n",
       "    .dataframe tbody tr th:only-of-type {\n",
       "        vertical-align: middle;\n",
       "    }\n",
       "\n",
       "    .dataframe tbody tr th {\n",
       "        vertical-align: top;\n",
       "    }\n",
       "\n",
       "    .dataframe thead th {\n",
       "        text-align: right;\n",
       "    }\n",
       "</style>\n",
       "<table border=\"1\" class=\"dataframe\">\n",
       "  <thead>\n",
       "    <tr style=\"text-align: right;\">\n",
       "      <th></th>\n",
       "      <th>ImageId</th>\n",
       "      <th>Label</th>\n",
       "      <th>Class</th>\n",
       "    </tr>\n",
       "  </thead>\n",
       "  <tbody>\n",
       "    <tr>\n",
       "      <th>0</th>\n",
       "      <td>1</td>\n",
       "      <td>0</td>\n",
       "      <td>2</td>\n",
       "    </tr>\n",
       "    <tr>\n",
       "      <th>1</th>\n",
       "      <td>2</td>\n",
       "      <td>0</td>\n",
       "      <td>0</td>\n",
       "    </tr>\n",
       "    <tr>\n",
       "      <th>2</th>\n",
       "      <td>3</td>\n",
       "      <td>0</td>\n",
       "      <td>9</td>\n",
       "    </tr>\n",
       "    <tr>\n",
       "      <th>3</th>\n",
       "      <td>4</td>\n",
       "      <td>0</td>\n",
       "      <td>9</td>\n",
       "    </tr>\n",
       "    <tr>\n",
       "      <th>4</th>\n",
       "      <td>5</td>\n",
       "      <td>0</td>\n",
       "      <td>3</td>\n",
       "    </tr>\n",
       "  </tbody>\n",
       "</table>\n",
       "</div>"
      ],
      "text/plain": [
       "   ImageId  Label  Class\n",
       "0        1      0      2\n",
       "1        2      0      0\n",
       "2        3      0      9\n",
       "3        4      0      9\n",
       "4        5      0      3"
      ]
     },
     "execution_count": 25,
     "metadata": {},
     "output_type": "execute_result"
    }
   ],
   "source": [
    "label_var = pd.DataFrame(classes, columns =['Class'])\n",
    "sub = pd.concat([submission, label_var], axis = 1)\n",
    "sub.Class = label_var\n",
    "sub.head()"
   ]
  },
  {
   "cell_type": "code",
   "execution_count": 26,
   "id": "fadad50b",
   "metadata": {
    "execution": {
     "iopub.execute_input": "2023-01-29T16:11:43.636288Z",
     "iopub.status.busy": "2023-01-29T16:11:43.635961Z",
     "iopub.status.idle": "2023-01-29T16:11:43.642199Z",
     "shell.execute_reply": "2023-01-29T16:11:43.641299Z"
    },
    "papermill": {
     "duration": 0.110921,
     "end_time": "2023-01-29T16:11:43.644422",
     "exception": false,
     "start_time": "2023-01-29T16:11:43.533501",
     "status": "completed"
    },
    "tags": []
   },
   "outputs": [],
   "source": [
    "## Submiting the work \n",
    "sub = sub[['ImageId','Class']]\n"
   ]
  },
  {
   "cell_type": "code",
   "execution_count": 27,
   "id": "2463ddd9",
   "metadata": {
    "execution": {
     "iopub.execute_input": "2023-01-29T16:11:43.847651Z",
     "iopub.status.busy": "2023-01-29T16:11:43.847342Z",
     "iopub.status.idle": "2023-01-29T16:11:43.852656Z",
     "shell.execute_reply": "2023-01-29T16:11:43.851728Z"
    },
    "papermill": {
     "duration": 0.108687,
     "end_time": "2023-01-29T16:11:43.854799",
     "exception": false,
     "start_time": "2023-01-29T16:11:43.746112",
     "status": "completed"
    },
    "tags": []
   },
   "outputs": [],
   "source": [
    "sub = sub.rename(columns={'Class': 'Label'})"
   ]
  },
  {
   "cell_type": "code",
   "execution_count": 28,
   "id": "2f2b8474",
   "metadata": {
    "execution": {
     "iopub.execute_input": "2023-01-29T16:11:44.061398Z",
     "iopub.status.busy": "2023-01-29T16:11:44.061043Z",
     "iopub.status.idle": "2023-01-29T16:11:44.102439Z",
     "shell.execute_reply": "2023-01-29T16:11:44.101396Z"
    },
    "papermill": {
     "duration": 0.149562,
     "end_time": "2023-01-29T16:11:44.104734",
     "exception": false,
     "start_time": "2023-01-29T16:11:43.955172",
     "status": "completed"
    },
    "tags": []
   },
   "outputs": [
    {
     "data": {
      "text/html": [
       "<div>\n",
       "<style scoped>\n",
       "    .dataframe tbody tr th:only-of-type {\n",
       "        vertical-align: middle;\n",
       "    }\n",
       "\n",
       "    .dataframe tbody tr th {\n",
       "        vertical-align: top;\n",
       "    }\n",
       "\n",
       "    .dataframe thead th {\n",
       "        text-align: right;\n",
       "    }\n",
       "</style>\n",
       "<table border=\"1\" class=\"dataframe\">\n",
       "  <thead>\n",
       "    <tr style=\"text-align: right;\">\n",
       "      <th></th>\n",
       "      <th>ImageId</th>\n",
       "      <th>Label</th>\n",
       "    </tr>\n",
       "  </thead>\n",
       "  <tbody>\n",
       "    <tr>\n",
       "      <th>0</th>\n",
       "      <td>1</td>\n",
       "      <td>2</td>\n",
       "    </tr>\n",
       "    <tr>\n",
       "      <th>1</th>\n",
       "      <td>2</td>\n",
       "      <td>0</td>\n",
       "    </tr>\n",
       "    <tr>\n",
       "      <th>2</th>\n",
       "      <td>3</td>\n",
       "      <td>9</td>\n",
       "    </tr>\n",
       "    <tr>\n",
       "      <th>3</th>\n",
       "      <td>4</td>\n",
       "      <td>9</td>\n",
       "    </tr>\n",
       "    <tr>\n",
       "      <th>4</th>\n",
       "      <td>5</td>\n",
       "      <td>3</td>\n",
       "    </tr>\n",
       "    <tr>\n",
       "      <th>...</th>\n",
       "      <td>...</td>\n",
       "      <td>...</td>\n",
       "    </tr>\n",
       "    <tr>\n",
       "      <th>27995</th>\n",
       "      <td>27996</td>\n",
       "      <td>9</td>\n",
       "    </tr>\n",
       "    <tr>\n",
       "      <th>27996</th>\n",
       "      <td>27997</td>\n",
       "      <td>7</td>\n",
       "    </tr>\n",
       "    <tr>\n",
       "      <th>27997</th>\n",
       "      <td>27998</td>\n",
       "      <td>3</td>\n",
       "    </tr>\n",
       "    <tr>\n",
       "      <th>27998</th>\n",
       "      <td>27999</td>\n",
       "      <td>9</td>\n",
       "    </tr>\n",
       "    <tr>\n",
       "      <th>27999</th>\n",
       "      <td>28000</td>\n",
       "      <td>2</td>\n",
       "    </tr>\n",
       "  </tbody>\n",
       "</table>\n",
       "<p>28000 rows × 2 columns</p>\n",
       "</div>"
      ],
      "text/plain": [
       "       ImageId  Label\n",
       "0            1      2\n",
       "1            2      0\n",
       "2            3      9\n",
       "3            4      9\n",
       "4            5      3\n",
       "...        ...    ...\n",
       "27995    27996      9\n",
       "27996    27997      7\n",
       "27997    27998      3\n",
       "27998    27999      9\n",
       "27999    28000      2\n",
       "\n",
       "[28000 rows x 2 columns]"
      ]
     },
     "execution_count": 28,
     "metadata": {},
     "output_type": "execute_result"
    }
   ],
   "source": [
    "sub.to_csv('submission.csv',index=False)\n",
    "\n",
    "pd.read_csv('submission.csv')"
   ]
  }
 ],
 "metadata": {
  "kernelspec": {
   "display_name": "Python 3",
   "language": "python",
   "name": "python3"
  },
  "language_info": {
   "codemirror_mode": {
    "name": "ipython",
    "version": 3
   },
   "file_extension": ".py",
   "mimetype": "text/x-python",
   "name": "python",
   "nbconvert_exporter": "python",
   "pygments_lexer": "ipython3",
   "version": "3.7.12"
  },
  "papermill": {
   "default_parameters": {},
   "duration": 151.568948,
   "end_time": "2023-01-29T16:11:47.702154",
   "environment_variables": {},
   "exception": null,
   "input_path": "__notebook__.ipynb",
   "output_path": "__notebook__.ipynb",
   "parameters": {},
   "start_time": "2023-01-29T16:09:16.133206",
   "version": "2.3.4"
  }
 },
 "nbformat": 4,
 "nbformat_minor": 5
}
